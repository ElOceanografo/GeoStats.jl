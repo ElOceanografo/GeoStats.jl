{
 "cells": [
  {
   "cell_type": "markdown",
   "metadata": {},
   "source": [
    "# Anisotropic models\n",
    "\n",
    "In this tutorial, we demonstrate how to perform estimation with anisotropic variograms using GeoStats.jl.\n",
    "\n",
    "Before we proceed, please install the following packages:"
   ]
  },
  {
   "cell_type": "code",
   "execution_count": 1,
   "metadata": {},
   "outputs": [
    {
     "name": "stderr",
     "output_type": "stream",
     "text": [
      "\u001b[1m\u001b[36mINFO: \u001b[39m\u001b[22m\u001b[36mPackage GeoStats is already installed\n",
      "\u001b[39m\u001b[1m\u001b[36mINFO: \u001b[39m\u001b[22m\u001b[36mPackage Plots is already installed\n",
      "\u001b[39m\u001b[1m\u001b[36mINFO: \u001b[39m\u001b[22m\u001b[36mPackage GR is already installed\n",
      "\u001b[39m"
     ]
    }
   ],
   "source": [
    "for pkg in [\"GeoStats\", \"Plots\", \"GR\"]\n",
    "    Pkg.add(pkg)\n",
    "end\n",
    "\n",
    "# make sure this tutorial is reproducible\n",
    "srand(2000);"
   ]
  },
  {
   "cell_type": "markdown",
   "metadata": {},
   "source": [
    "## Ellipsoid distance\n",
    "\n",
    "Anisotropy can be thought of as a deformation of space with an ellipsoid distance. The semiaxes of the ellipsoid determine the preferential directions of the field and their lengths characterize the anisotropy ratio. In GeoStats.jl, all variogram models (empirical and theoretical) support a custom distance function that\n",
    "can be used to model anisotropy.\n",
    "\n",
    "A variogram object $\\gamma$ can be evaluated as an isotropic model $\\gamma(h)$ or as a (possibly) anisotropic model $\\gamma(x,y)$. For the Euclidean distance (the default), these two operations match $\\gamma(x,y) = \\gamma(h)$ in all directions:"
   ]
  },
  {
   "cell_type": "code",
   "execution_count": 2,
   "metadata": {},
   "outputs": [
    {
     "data": {
      "text/html": [
       "true"
      ],
      "text/plain": [
       "true"
      ]
     },
     "execution_count": 2,
     "metadata": {},
     "output_type": "execute_result"
    }
   ],
   "source": [
    "using GeoStats\n",
    "\n",
    "γ = GaussianVariogram()\n",
    "\n",
    "γ([1.,0.], [0.,0.]) ≈ γ(1.)"
   ]
  },
  {
   "cell_type": "markdown",
   "metadata": {},
   "source": [
    "If instead of an Euclidean ball, we use an ellipsoid with different semiaxes, the operation $\\gamma(x,y)$ becomes a function of the direction $x-y$. For example, we can create an ellipsoid distance aligned with the coordinate system where the major semiaxis has twice the size of the minor semiaxis:"
   ]
  },
  {
   "cell_type": "code",
   "execution_count": 3,
   "metadata": {},
   "outputs": [
    {
     "data": {
      "text/html": [
       "true"
      ],
      "text/plain": [
       "true"
      ]
     },
     "execution_count": 3,
     "metadata": {},
     "output_type": "execute_result"
    }
   ],
   "source": [
    "using Distances\n",
    "\n",
    "γaniso = GaussianVariogram(distance=Ellipsoidal([2.,1.],[0.]))\n",
    "\n",
    "γaniso([1.,0.],[0.,0.]) ≠ γaniso([0.,1.],[0.,0.])"
   ]
  },
  {
   "cell_type": "markdown",
   "metadata": {},
   "source": [
    "## Effects on estimation\n",
    "\n",
    "Now that we know how to construct anisotropic variograms, we can investigate the effect of varying the anisotropy ratio and alignement angle on estimation results. We start by generating some random data:"
   ]
  },
  {
   "cell_type": "code",
   "execution_count": 4,
   "metadata": {},
   "outputs": [
    {
     "data": {
      "image/svg+xml": [
       "<?xml version=\"1.0\" encoding=\"utf-8\"?>\n",
       "<svg xmlns=\"http://www.w3.org/2000/svg\" xmlns:xlink=\"http://www.w3.org/1999/xlink\" width=\"600\" height=\"400\" viewBox=\"0 0 600 400\">\n",
       "<defs>\n",
       "  <clipPath id=\"clip5400\">\n",
       "    <rect x=\"0\" y=\"0\" width=\"600\" height=\"400\"/>\n",
       "  </clipPath>\n",
       "</defs>\n",
       "<polygon clip-path=\"url(#clip5400)\" points=\"\n",
       "0,400 600,400 600,0 0,0 \n",
       "  \" fill=\"#ffffff\" fill-opacity=\"1\"/>\n",
       "<defs>\n",
       "  <clipPath id=\"clip5401\">\n",
       "    <rect x=\"120\" y=\"0\" width=\"421\" height=\"400\"/>\n",
       "  </clipPath>\n",
       "</defs>\n",
       "<polygon clip-path=\"url(#clip5400)\" points=\"\n",
       "35.8198,375.869 580.315,375.869 580.315,11.811 35.8198,11.811 \n",
       "  \" fill=\"#ffffff\" fill-opacity=\"1\"/>\n",
       "<defs>\n",
       "  <clipPath id=\"clip5402\">\n",
       "    <rect x=\"35\" y=\"11\" width=\"545\" height=\"365\"/>\n",
       "  </clipPath>\n",
       "</defs>\n",
       "<polyline clip-path=\"url(#clip5402)\" style=\"stroke:#000000; stroke-width:0.5; stroke-opacity:0.1; fill:none\" points=\"\n",
       "  139.166,375.869 139.166,11.811 \n",
       "  \"/>\n",
       "<polyline clip-path=\"url(#clip5402)\" style=\"stroke:#000000; stroke-width:0.5; stroke-opacity:0.1; fill:none\" points=\"\n",
       "  250.367,375.869 250.367,11.811 \n",
       "  \"/>\n",
       "<polyline clip-path=\"url(#clip5402)\" style=\"stroke:#000000; stroke-width:0.5; stroke-opacity:0.1; fill:none\" points=\"\n",
       "  361.569,375.869 361.569,11.811 \n",
       "  \"/>\n",
       "<polyline clip-path=\"url(#clip5402)\" style=\"stroke:#000000; stroke-width:0.5; stroke-opacity:0.1; fill:none\" points=\"\n",
       "  472.77,375.869 472.77,11.811 \n",
       "  \"/>\n",
       "<polyline clip-path=\"url(#clip5402)\" style=\"stroke:#000000; stroke-width:0.5; stroke-opacity:0.1; fill:none\" points=\"\n",
       "  35.8198,304.931 580.315,304.931 \n",
       "  \"/>\n",
       "<polyline clip-path=\"url(#clip5402)\" style=\"stroke:#000000; stroke-width:0.5; stroke-opacity:0.1; fill:none\" points=\"\n",
       "  35.8198,233.806 580.315,233.806 \n",
       "  \"/>\n",
       "<polyline clip-path=\"url(#clip5402)\" style=\"stroke:#000000; stroke-width:0.5; stroke-opacity:0.1; fill:none\" points=\"\n",
       "  35.8198,162.681 580.315,162.681 \n",
       "  \"/>\n",
       "<polyline clip-path=\"url(#clip5402)\" style=\"stroke:#000000; stroke-width:0.5; stroke-opacity:0.1; fill:none\" points=\"\n",
       "  35.8198,91.5555 580.315,91.5555 \n",
       "  \"/>\n",
       "<polyline clip-path=\"url(#clip5402)\" style=\"stroke:#000000; stroke-width:0.5; stroke-opacity:0.1; fill:none\" points=\"\n",
       "  35.8198,20.4304 580.315,20.4304 \n",
       "  \"/>\n",
       "<polyline clip-path=\"url(#clip5400)\" style=\"stroke:#000000; stroke-width:1; stroke-opacity:1; fill:none\" points=\"\n",
       "  35.8198,375.869 580.315,375.869 \n",
       "  \"/>\n",
       "<polyline clip-path=\"url(#clip5400)\" style=\"stroke:#000000; stroke-width:1; stroke-opacity:1; fill:none\" points=\"\n",
       "  35.8198,375.869 35.8198,11.811 \n",
       "  \"/>\n",
       "<polyline clip-path=\"url(#clip5400)\" style=\"stroke:#000000; stroke-width:1; stroke-opacity:1; fill:none\" points=\"\n",
       "  139.166,375.869 139.166,370.408 \n",
       "  \"/>\n",
       "<polyline clip-path=\"url(#clip5400)\" style=\"stroke:#000000; stroke-width:1; stroke-opacity:1; fill:none\" points=\"\n",
       "  250.367,375.869 250.367,370.408 \n",
       "  \"/>\n",
       "<polyline clip-path=\"url(#clip5400)\" style=\"stroke:#000000; stroke-width:1; stroke-opacity:1; fill:none\" points=\"\n",
       "  361.569,375.869 361.569,370.408 \n",
       "  \"/>\n",
       "<polyline clip-path=\"url(#clip5400)\" style=\"stroke:#000000; stroke-width:1; stroke-opacity:1; fill:none\" points=\"\n",
       "  472.77,375.869 472.77,370.408 \n",
       "  \"/>\n",
       "<polyline clip-path=\"url(#clip5400)\" style=\"stroke:#000000; stroke-width:1; stroke-opacity:1; fill:none\" points=\"\n",
       "  35.8198,304.931 43.9872,304.931 \n",
       "  \"/>\n",
       "<polyline clip-path=\"url(#clip5400)\" style=\"stroke:#000000; stroke-width:1; stroke-opacity:1; fill:none\" points=\"\n",
       "  35.8198,233.806 43.9872,233.806 \n",
       "  \"/>\n",
       "<polyline clip-path=\"url(#clip5400)\" style=\"stroke:#000000; stroke-width:1; stroke-opacity:1; fill:none\" points=\"\n",
       "  35.8198,162.681 43.9872,162.681 \n",
       "  \"/>\n",
       "<polyline clip-path=\"url(#clip5400)\" style=\"stroke:#000000; stroke-width:1; stroke-opacity:1; fill:none\" points=\"\n",
       "  35.8198,91.5555 43.9872,91.5555 \n",
       "  \"/>\n",
       "<polyline clip-path=\"url(#clip5400)\" style=\"stroke:#000000; stroke-width:1; stroke-opacity:1; fill:none\" points=\"\n",
       "  35.8198,20.4304 43.9872,20.4304 \n",
       "  \"/>\n",
       "<g clip-path=\"url(#clip5400)\">\n",
       "<text style=\"fill:#000000; fill-opacity:1; font-family:Arial,Helvetica Neue,Helvetica,sans-serif; font-size:12; text-anchor:middle;\" transform=\"rotate(0, 139.166, 389.669)\" x=\"139.166\" y=\"389.669\">20</text>\n",
       "</g>\n",
       "<g clip-path=\"url(#clip5400)\">\n",
       "<text style=\"fill:#000000; fill-opacity:1; font-family:Arial,Helvetica Neue,Helvetica,sans-serif; font-size:12; text-anchor:middle;\" transform=\"rotate(0, 250.367, 389.669)\" x=\"250.367\" y=\"389.669\">40</text>\n",
       "</g>\n",
       "<g clip-path=\"url(#clip5400)\">\n",
       "<text style=\"fill:#000000; fill-opacity:1; font-family:Arial,Helvetica Neue,Helvetica,sans-serif; font-size:12; text-anchor:middle;\" transform=\"rotate(0, 361.569, 389.669)\" x=\"361.569\" y=\"389.669\">60</text>\n",
       "</g>\n",
       "<g clip-path=\"url(#clip5400)\">\n",
       "<text style=\"fill:#000000; fill-opacity:1; font-family:Arial,Helvetica Neue,Helvetica,sans-serif; font-size:12; text-anchor:middle;\" transform=\"rotate(0, 472.77, 389.669)\" x=\"472.77\" y=\"389.669\">80</text>\n",
       "</g>\n",
       "<g clip-path=\"url(#clip5400)\">\n",
       "<text style=\"fill:#000000; fill-opacity:1; font-family:Arial,Helvetica Neue,Helvetica,sans-serif; font-size:12; text-anchor:end;\" transform=\"rotate(0, 29.8198, 309.431)\" x=\"29.8198\" y=\"309.431\">20</text>\n",
       "</g>\n",
       "<g clip-path=\"url(#clip5400)\">\n",
       "<text style=\"fill:#000000; fill-opacity:1; font-family:Arial,Helvetica Neue,Helvetica,sans-serif; font-size:12; text-anchor:end;\" transform=\"rotate(0, 29.8198, 238.306)\" x=\"29.8198\" y=\"238.306\">40</text>\n",
       "</g>\n",
       "<g clip-path=\"url(#clip5400)\">\n",
       "<text style=\"fill:#000000; fill-opacity:1; font-family:Arial,Helvetica Neue,Helvetica,sans-serif; font-size:12; text-anchor:end;\" transform=\"rotate(0, 29.8198, 167.181)\" x=\"29.8198\" y=\"167.181\">60</text>\n",
       "</g>\n",
       "<g clip-path=\"url(#clip5400)\">\n",
       "<text style=\"fill:#000000; fill-opacity:1; font-family:Arial,Helvetica Neue,Helvetica,sans-serif; font-size:12; text-anchor:end;\" transform=\"rotate(0, 29.8198, 96.0555)\" x=\"29.8198\" y=\"96.0555\">80</text>\n",
       "</g>\n",
       "<g clip-path=\"url(#clip5400)\">\n",
       "<text style=\"fill:#000000; fill-opacity:1; font-family:Arial,Helvetica Neue,Helvetica,sans-serif; font-size:12; text-anchor:end;\" transform=\"rotate(0, 29.8198, 24.9304)\" x=\"29.8198\" y=\"24.9304\">100</text>\n",
       "</g>\n",
       "<circle clip-path=\"url(#clip5402)\" style=\"fill:#000000; stroke:none; fill-opacity:1\" cx=\"356.363\" cy=\"166.758\" r=\"4\"/>\n",
       "<circle clip-path=\"url(#clip5402)\" style=\"fill:#fafc9d; stroke:none; fill-opacity:1\" cx=\"356.363\" cy=\"166.758\" r=\"3\"/>\n",
       "<circle clip-path=\"url(#clip5402)\" style=\"fill:#000000; stroke:none; fill-opacity:1\" cx=\"103.925\" cy=\"200.548\" r=\"4\"/>\n",
       "<circle clip-path=\"url(#clip5402)\" style=\"fill:#f7860e; stroke:none; fill-opacity:1\" cx=\"103.925\" cy=\"200.548\" r=\"3\"/>\n",
       "<circle clip-path=\"url(#clip5402)\" style=\"fill:#000000; stroke:none; fill-opacity:1\" cx=\"327.861\" cy=\"194.163\" r=\"4\"/>\n",
       "<circle clip-path=\"url(#clip5402)\" style=\"fill:#f99008; stroke:none; fill-opacity:1\" cx=\"327.861\" cy=\"194.163\" r=\"3\"/>\n",
       "<circle clip-path=\"url(#clip5402)\" style=\"fill:#000000; stroke:none; fill-opacity:1\" cx=\"448.438\" cy=\"157.46\" r=\"4\"/>\n",
       "<circle clip-path=\"url(#clip5402)\" style=\"fill:#be3852; stroke:none; fill-opacity:1\" cx=\"448.438\" cy=\"157.46\" r=\"3\"/>\n",
       "<circle clip-path=\"url(#clip5402)\" style=\"fill:#000000; stroke:none; fill-opacity:1\" cx=\"439.285\" cy=\"204.311\" r=\"4\"/>\n",
       "<circle clip-path=\"url(#clip5402)\" style=\"fill:#b63457; stroke:none; fill-opacity:1\" cx=\"439.285\" cy=\"204.311\" r=\"3\"/>\n",
       "<circle clip-path=\"url(#clip5402)\" style=\"fill:#000000; stroke:none; fill-opacity:1\" cx=\"56.8471\" cy=\"279.099\" r=\"4\"/>\n",
       "<circle clip-path=\"url(#clip5402)\" style=\"fill:#8e2368; stroke:none; fill-opacity:1\" cx=\"56.8471\" cy=\"279.099\" r=\"3\"/>\n",
       "<circle clip-path=\"url(#clip5402)\" style=\"fill:#000000; stroke:none; fill-opacity:1\" cx=\"541.237\" cy=\"108.814\" r=\"4\"/>\n",
       "<circle clip-path=\"url(#clip5402)\" style=\"fill:#d84c3d; stroke:none; fill-opacity:1\" cx=\"541.237\" cy=\"108.814\" r=\"3\"/>\n",
       "<circle clip-path=\"url(#clip5402)\" style=\"fill:#000000; stroke:none; fill-opacity:1\" cx=\"419.321\" cy=\"62.0319\" r=\"4\"/>\n",
       "<circle clip-path=\"url(#clip5402)\" style=\"fill:#c73e4b; stroke:none; fill-opacity:1\" cx=\"419.321\" cy=\"62.0319\" r=\"3\"/>\n",
       "<circle clip-path=\"url(#clip5402)\" style=\"fill:#000000; stroke:none; fill-opacity:1\" cx=\"56.7373\" cy=\"233.219\" r=\"4\"/>\n",
       "<circle clip-path=\"url(#clip5402)\" style=\"fill:#000003; stroke:none; fill-opacity:1\" cx=\"56.7373\" cy=\"233.219\" r=\"3\"/>\n",
       "<circle clip-path=\"url(#clip5402)\" style=\"fill:#000000; stroke:none; fill-opacity:1\" cx=\"51.23\" cy=\"85.1652\" r=\"4\"/>\n",
       "<circle clip-path=\"url(#clip5402)\" style=\"fill:#1d0b43; stroke:none; fill-opacity:1\" cx=\"51.23\" cy=\"85.1652\" r=\"3\"/>\n",
       "<circle clip-path=\"url(#clip5402)\" style=\"fill:#000000; stroke:none; fill-opacity:1\" cx=\"376.712\" cy=\"177.608\" r=\"4\"/>\n",
       "<circle clip-path=\"url(#clip5402)\" style=\"fill:#450a68; stroke:none; fill-opacity:1\" cx=\"376.712\" cy=\"177.608\" r=\"3\"/>\n",
       "<circle clip-path=\"url(#clip5402)\" style=\"fill:#000000; stroke:none; fill-opacity:1\" cx=\"308.17\" cy=\"62.2793\" r=\"4\"/>\n",
       "<circle clip-path=\"url(#clip5402)\" style=\"fill:#972765; stroke:none; fill-opacity:1\" cx=\"308.17\" cy=\"62.2793\" r=\"3\"/>\n",
       "<circle clip-path=\"url(#clip5402)\" style=\"fill:#000000; stroke:none; fill-opacity:1\" cx=\"197.261\" cy=\"52.8403\" r=\"4\"/>\n",
       "<circle clip-path=\"url(#clip5402)\" style=\"fill:#eb6527; stroke:none; fill-opacity:1\" cx=\"197.261\" cy=\"52.8403\" r=\"3\"/>\n",
       "<circle clip-path=\"url(#clip5402)\" style=\"fill:#000000; stroke:none; fill-opacity:1\" cx=\"155.432\" cy=\"61.6311\" r=\"4\"/>\n",
       "<circle clip-path=\"url(#clip5402)\" style=\"fill:#f5d645; stroke:none; fill-opacity:1\" cx=\"155.432\" cy=\"61.6311\" r=\"3\"/>\n",
       "<circle clip-path=\"url(#clip5402)\" style=\"fill:#000000; stroke:none; fill-opacity:1\" cx=\"564.905\" cy=\"232.073\" r=\"4\"/>\n",
       "<circle clip-path=\"url(#clip5402)\" style=\"fill:#721a6d; stroke:none; fill-opacity:1\" cx=\"564.905\" cy=\"232.073\" r=\"3\"/>\n",
       "<circle clip-path=\"url(#clip5402)\" style=\"fill:#000000; stroke:none; fill-opacity:1\" cx=\"448.571\" cy=\"35.759\" r=\"4\"/>\n",
       "<circle clip-path=\"url(#clip5402)\" style=\"fill:#f9fc9d; stroke:none; fill-opacity:1\" cx=\"448.571\" cy=\"35.759\" r=\"3\"/>\n",
       "<circle clip-path=\"url(#clip5402)\" style=\"fill:#000000; stroke:none; fill-opacity:1\" cx=\"535.326\" cy=\"237.081\" r=\"4\"/>\n",
       "<circle clip-path=\"url(#clip5402)\" style=\"fill:#f6d23f; stroke:none; fill-opacity:1\" cx=\"535.326\" cy=\"237.081\" r=\"3\"/>\n",
       "<circle clip-path=\"url(#clip5402)\" style=\"fill:#000000; stroke:none; fill-opacity:1\" cx=\"60.82\" cy=\"215.233\" r=\"4\"/>\n",
       "<circle clip-path=\"url(#clip5402)\" style=\"fill:#c53d4d; stroke:none; fill-opacity:1\" cx=\"60.82\" cy=\"215.233\" r=\"3\"/>\n",
       "<circle clip-path=\"url(#clip5402)\" style=\"fill:#000000; stroke:none; fill-opacity:1\" cx=\"470.957\" cy=\"312.061\" r=\"4\"/>\n",
       "<circle clip-path=\"url(#clip5402)\" style=\"fill:#de5337; stroke:none; fill-opacity:1\" cx=\"470.957\" cy=\"312.061\" r=\"3\"/>\n",
       "<circle clip-path=\"url(#clip5402)\" style=\"fill:#000000; stroke:none; fill-opacity:1\" cx=\"432.479\" cy=\"337.046\" r=\"4\"/>\n",
       "<circle clip-path=\"url(#clip5402)\" style=\"fill:#fbb317; stroke:none; fill-opacity:1\" cx=\"432.479\" cy=\"337.046\" r=\"3\"/>\n",
       "<circle clip-path=\"url(#clip5402)\" style=\"fill:#000000; stroke:none; fill-opacity:1\" cx=\"436.948\" cy=\"39.7267\" r=\"4\"/>\n",
       "<circle clip-path=\"url(#clip5402)\" style=\"fill:#0d0828; stroke:none; fill-opacity:1\" cx=\"436.948\" cy=\"39.7267\" r=\"3\"/>\n",
       "<circle clip-path=\"url(#clip5402)\" style=\"fill:#000000; stroke:none; fill-opacity:1\" cx=\"318.643\" cy=\"24.3042\" r=\"4\"/>\n",
       "<circle clip-path=\"url(#clip5402)\" style=\"fill:#1a0b3f; stroke:none; fill-opacity:1\" cx=\"318.643\" cy=\"24.3042\" r=\"3\"/>\n",
       "<circle clip-path=\"url(#clip5402)\" style=\"fill:#000000; stroke:none; fill-opacity:1\" cx=\"116.885\" cy=\"136.883\" r=\"4\"/>\n",
       "<circle clip-path=\"url(#clip5402)\" style=\"fill:#a42c60; stroke:none; fill-opacity:1\" cx=\"116.885\" cy=\"136.883\" r=\"3\"/>\n",
       "<circle clip-path=\"url(#clip5402)\" style=\"fill:#000000; stroke:none; fill-opacity:1\" cx=\"359.782\" cy=\"22.1145\" r=\"4\"/>\n",
       "<circle clip-path=\"url(#clip5402)\" style=\"fill:#fba40b; stroke:none; fill-opacity:1\" cx=\"359.782\" cy=\"22.1145\" r=\"3\"/>\n",
       "<circle clip-path=\"url(#clip5402)\" style=\"fill:#000000; stroke:none; fill-opacity:1\" cx=\"436.77\" cy=\"234.673\" r=\"4\"/>\n",
       "<circle clip-path=\"url(#clip5402)\" style=\"fill:#f2f380; stroke:none; fill-opacity:1\" cx=\"436.77\" cy=\"234.673\" r=\"3\"/>\n",
       "<circle clip-path=\"url(#clip5402)\" style=\"fill:#000000; stroke:none; fill-opacity:1\" cx=\"317.505\" cy=\"165.147\" r=\"4\"/>\n",
       "<circle clip-path=\"url(#clip5402)\" style=\"fill:#5c116d; stroke:none; fill-opacity:1\" cx=\"317.505\" cy=\"165.147\" r=\"3\"/>\n",
       "<circle clip-path=\"url(#clip5402)\" style=\"fill:#000000; stroke:none; fill-opacity:1\" cx=\"109.991\" cy=\"56.3797\" r=\"4\"/>\n",
       "<circle clip-path=\"url(#clip5402)\" style=\"fill:#e55c2f; stroke:none; fill-opacity:1\" cx=\"109.991\" cy=\"56.3797\" r=\"3\"/>\n",
       "<circle clip-path=\"url(#clip5402)\" style=\"fill:#000000; stroke:none; fill-opacity:1\" cx=\"122.817\" cy=\"177.749\" r=\"4\"/>\n",
       "<circle clip-path=\"url(#clip5402)\" style=\"fill:#2b0a55; stroke:none; fill-opacity:1\" cx=\"122.817\" cy=\"177.749\" r=\"3\"/>\n",
       "<circle clip-path=\"url(#clip5402)\" style=\"fill:#000000; stroke:none; fill-opacity:1\" cx=\"445.361\" cy=\"54.4714\" r=\"4\"/>\n",
       "<circle clip-path=\"url(#clip5402)\" style=\"fill:#fac027; stroke:none; fill-opacity:1\" cx=\"445.361\" cy=\"54.4714\" r=\"3\"/>\n",
       "<circle clip-path=\"url(#clip5402)\" style=\"fill:#000000; stroke:none; fill-opacity:1\" cx=\"167.051\" cy=\"280.093\" r=\"4\"/>\n",
       "<circle clip-path=\"url(#clip5402)\" style=\"fill:#f7840f; stroke:none; fill-opacity:1\" cx=\"167.051\" cy=\"280.093\" r=\"3\"/>\n",
       "<circle clip-path=\"url(#clip5402)\" style=\"fill:#000000; stroke:none; fill-opacity:1\" cx=\"362.925\" cy=\"365.565\" r=\"4\"/>\n",
       "<circle clip-path=\"url(#clip5402)\" style=\"fill:#fcfea4; stroke:none; fill-opacity:1\" cx=\"362.925\" cy=\"365.565\" r=\"3\"/>\n",
       "<circle clip-path=\"url(#clip5402)\" style=\"fill:#000000; stroke:none; fill-opacity:1\" cx=\"79.61\" cy=\"170.399\" r=\"4\"/>\n",
       "<circle clip-path=\"url(#clip5402)\" style=\"fill:#1e0b45; stroke:none; fill-opacity:1\" cx=\"79.61\" cy=\"170.399\" r=\"3\"/>\n",
       "<circle clip-path=\"url(#clip5402)\" style=\"fill:#000000; stroke:none; fill-opacity:1\" cx=\"472.63\" cy=\"234.396\" r=\"4\"/>\n",
       "<circle clip-path=\"url(#clip5402)\" style=\"fill:#831f6b; stroke:none; fill-opacity:1\" cx=\"472.63\" cy=\"234.396\" r=\"3\"/>\n",
       "<circle clip-path=\"url(#clip5402)\" style=\"fill:#000000; stroke:none; fill-opacity:1\" cx=\"190.653\" cy=\"157.004\" r=\"4\"/>\n",
       "<circle clip-path=\"url(#clip5402)\" style=\"fill:#260b51; stroke:none; fill-opacity:1\" cx=\"190.653\" cy=\"157.004\" r=\"3\"/>\n",
       "<circle clip-path=\"url(#clip5402)\" style=\"fill:#000000; stroke:none; fill-opacity:1\" cx=\"59.1843\" cy=\"145.828\" r=\"4\"/>\n",
       "<circle clip-path=\"url(#clip5402)\" style=\"fill:#f7f994; stroke:none; fill-opacity:1\" cx=\"59.1843\" cy=\"145.828\" r=\"3\"/>\n",
       "<circle clip-path=\"url(#clip5402)\" style=\"fill:#000000; stroke:none; fill-opacity:1\" cx=\"328.368\" cy=\"262.145\" r=\"4\"/>\n",
       "<circle clip-path=\"url(#clip5402)\" style=\"fill:#9a2864; stroke:none; fill-opacity:1\" cx=\"328.368\" cy=\"262.145\" r=\"3\"/>\n",
       "<circle clip-path=\"url(#clip5402)\" style=\"fill:#000000; stroke:none; fill-opacity:1\" cx=\"317.141\" cy=\"63.4905\" r=\"4\"/>\n",
       "<circle clip-path=\"url(#clip5402)\" style=\"fill:#1a0b40; stroke:none; fill-opacity:1\" cx=\"317.141\" cy=\"63.4905\" r=\"3\"/>\n",
       "<circle clip-path=\"url(#clip5402)\" style=\"fill:#000000; stroke:none; fill-opacity:1\" cx=\"118.051\" cy=\"129.671\" r=\"4\"/>\n",
       "<circle clip-path=\"url(#clip5402)\" style=\"fill:#02020e; stroke:none; fill-opacity:1\" cx=\"118.051\" cy=\"129.671\" r=\"3\"/>\n",
       "<circle clip-path=\"url(#clip5402)\" style=\"fill:#000000; stroke:none; fill-opacity:1\" cx=\"80.122\" cy=\"298.79\" r=\"4\"/>\n",
       "<circle clip-path=\"url(#clip5402)\" style=\"fill:#c63d4c; stroke:none; fill-opacity:1\" cx=\"80.122\" cy=\"298.79\" r=\"3\"/>\n",
       "<circle clip-path=\"url(#clip5402)\" style=\"fill:#000000; stroke:none; fill-opacity:1\" cx=\"452.439\" cy=\"87.4156\" r=\"4\"/>\n",
       "<circle clip-path=\"url(#clip5402)\" style=\"fill:#e55c2f; stroke:none; fill-opacity:1\" cx=\"452.439\" cy=\"87.4156\" r=\"3\"/>\n",
       "<circle clip-path=\"url(#clip5402)\" style=\"fill:#000000; stroke:none; fill-opacity:1\" cx=\"290.956\" cy=\"93.2146\" r=\"4\"/>\n",
       "<circle clip-path=\"url(#clip5402)\" style=\"fill:#fba40b; stroke:none; fill-opacity:1\" cx=\"290.956\" cy=\"93.2146\" r=\"3\"/>\n",
       "<circle clip-path=\"url(#clip5402)\" style=\"fill:#000000; stroke:none; fill-opacity:1\" cx=\"105.635\" cy=\"161.253\" r=\"4\"/>\n",
       "<circle clip-path=\"url(#clip5402)\" style=\"fill:#ef6e20; stroke:none; fill-opacity:1\" cx=\"105.635\" cy=\"161.253\" r=\"3\"/>\n",
       "<circle clip-path=\"url(#clip5402)\" style=\"fill:#000000; stroke:none; fill-opacity:1\" cx=\"293.661\" cy=\"164.132\" r=\"4\"/>\n",
       "<circle clip-path=\"url(#clip5402)\" style=\"fill:#c53d4d; stroke:none; fill-opacity:1\" cx=\"293.661\" cy=\"164.132\" r=\"3\"/>\n",
       "<circle clip-path=\"url(#clip5402)\" style=\"fill:#000000; stroke:none; fill-opacity:1\" cx=\"423.734\" cy=\"340.542\" r=\"4\"/>\n",
       "<circle clip-path=\"url(#clip5402)\" style=\"fill:#520e6c; stroke:none; fill-opacity:1\" cx=\"423.734\" cy=\"340.542\" r=\"3\"/>\n",
       "<circle clip-path=\"url(#clip5402)\" style=\"fill:#000000; stroke:none; fill-opacity:1\" cx=\"98.2487\" cy=\"200.345\" r=\"4\"/>\n",
       "<circle clip-path=\"url(#clip5402)\" style=\"fill:#7f1e6c; stroke:none; fill-opacity:1\" cx=\"98.2487\" cy=\"200.345\" r=\"3\"/>\n",
       "<circle clip-path=\"url(#clip5402)\" style=\"fill:#000000; stroke:none; fill-opacity:1\" cx=\"95.2497\" cy=\"361.287\" r=\"4\"/>\n",
       "<circle clip-path=\"url(#clip5402)\" style=\"fill:#e96329; stroke:none; fill-opacity:1\" cx=\"95.2497\" cy=\"361.287\" r=\"3\"/>\n",
       "<circle clip-path=\"url(#clip5402)\" style=\"fill:#000000; stroke:none; fill-opacity:1\" cx=\"72.9056\" cy=\"65.5504\" r=\"4\"/>\n",
       "<circle clip-path=\"url(#clip5402)\" style=\"fill:#ea6428; stroke:none; fill-opacity:1\" cx=\"72.9056\" cy=\"65.5504\" r=\"3\"/>\n",
       "<circle clip-path=\"url(#clip5402)\" style=\"fill:#000000; stroke:none; fill-opacity:1\" cx=\"516.207\" cy=\"228.115\" r=\"4\"/>\n",
       "<circle clip-path=\"url(#clip5402)\" style=\"fill:#f78310; stroke:none; fill-opacity:1\" cx=\"516.207\" cy=\"228.115\" r=\"3\"/>\n",
       "<circle clip-path=\"url(#clip5402)\" style=\"fill:#000000; stroke:none; fill-opacity:1\" cx=\"68.0467\" cy=\"193.38\" r=\"4\"/>\n",
       "<circle clip-path=\"url(#clip5402)\" style=\"fill:#b0315a; stroke:none; fill-opacity:1\" cx=\"68.0467\" cy=\"193.38\" r=\"3\"/>\n",
       "<circle clip-path=\"url(#clip5402)\" style=\"fill:#000000; stroke:none; fill-opacity:1\" cx=\"238.511\" cy=\"231.238\" r=\"4\"/>\n",
       "<circle clip-path=\"url(#clip5402)\" style=\"fill:#360961; stroke:none; fill-opacity:1\" cx=\"238.511\" cy=\"231.238\" r=\"3\"/>\n",
       "<polygon clip-path=\"url(#clip5400)\" points=\"\n",
       "478.898,62.931 562.315,62.931 562.315,32.691 478.898,32.691 \n",
       "  \" fill=\"#ffffff\" fill-opacity=\"1\"/>\n",
       "<polyline clip-path=\"url(#clip5400)\" style=\"stroke:#000000; stroke-width:1; stroke-opacity:1; fill:none\" points=\"\n",
       "  478.898,62.931 562.315,62.931 562.315,32.691 478.898,32.691 478.898,62.931 \n",
       "  \"/>\n",
       "<circle clip-path=\"url(#clip5400)\" style=\"fill:#000000; stroke:none; fill-opacity:1\" cx=\"505.898\" cy=\"47.811\" r=\"6\"/>\n",
       "<circle clip-path=\"url(#clip5400)\" style=\"fill:#fafc9d; stroke:none; fill-opacity:1\" cx=\"505.898\" cy=\"47.811\" r=\"5\"/>\n",
       "<g clip-path=\"url(#clip5400)\">\n",
       "<text style=\"fill:#000000; fill-opacity:1; font-family:Arial,Helvetica Neue,Helvetica,sans-serif; font-size:12; text-anchor:start;\" transform=\"rotate(0, 526.898, 52.311)\" x=\"526.898\" y=\"52.311\">data</text>\n",
       "</g>\n",
       "</svg>\n"
      ]
     },
     "execution_count": 4,
     "metadata": {},
     "output_type": "execute_result"
    }
   ],
   "source": [
    "using Plots; gr()\n",
    "\n",
    "dim, nobs = 2, 50\n",
    "\n",
    "X = 100*rand(dim, nobs)\n",
    "z = rand(nobs)\n",
    "\n",
    "scatter(X[1,:], X[2,:], c=z, label=\"data\")"
   ]
  },
  {
   "cell_type": "markdown",
   "metadata": {},
   "source": [
    "and by defining an estimation problem:"
   ]
  },
  {
   "cell_type": "code",
   "execution_count": 5,
   "metadata": {},
   "outputs": [
    {
     "data": {
      "text/plain": [
       "2D EstimationProblem\n",
       "  data:      50×3 GeoDataFrame (x and y)\n",
       "  domain:    100×100 RegularGrid{Float64,2}\n",
       "  variables: variable (Float64)"
      ]
     },
     "execution_count": 5,
     "metadata": {},
     "output_type": "execute_result"
    }
   ],
   "source": [
    "geodata = GeoDataFrame(DataFrames.DataFrame(x=X[1,:],y=X[2,:],variable=z), [:x,:y])\n",
    "domain = RegularGrid{Float64}(100,100)\n",
    "problem = EstimationProblem(geodata, domain, :variable)"
   ]
  },
  {
   "cell_type": "markdown",
   "metadata": {},
   "source": [
    "First, we vary the anisotropy ratio with an ellipsoid that is aligned with the coordinate system:"
   ]
  },
  {
   "cell_type": "code",
   "execution_count": 6,
   "metadata": {},
   "outputs": [
    {
     "name": "stderr",
     "output_type": "stream",
     "text": [
      "\u001b[1m\u001b[36mINFO: \u001b[39m\u001b[22m\u001b[36mSaved animation to /home/juliohm/.julia/v0.6/GeoStats/examples/figs/anisotropy_ratio.gif\n",
      "\u001b[39m"
     ]
    },
    {
     "data": {
      "text/html": [
       "<img src=\"figs/anisotropy_ratio.gif?0.943356905739213>\" />"
      ],
      "text/plain": [
       "Plots.AnimatedGif(\"/home/juliohm/.julia/v0.6/GeoStats/examples/figs/anisotropy_ratio.gif\")"
      ]
     },
     "execution_count": 6,
     "metadata": {},
     "output_type": "execute_result"
    }
   ],
   "source": [
    "anim = @animate for a=linspace(1,10,10)\n",
    "    γ = GaussianVariogram(range=5., distance=Ellipsoidal([a,1.], [0.]))\n",
    "    \n",
    "    solution = solve(problem, Kriging(:variable => @NT(variogram=γ)))\n",
    "    \n",
    "    plot(solution, size=(1000,400))\n",
    "end\n",
    "gif(anim, \"figs/anisotropy_ratio.gif\", fps=1)"
   ]
  },
  {
   "cell_type": "markdown",
   "metadata": {},
   "source": [
    "Second, we fix the anisotropy ratio and vary the alignment angle:"
   ]
  },
  {
   "cell_type": "code",
   "execution_count": 7,
   "metadata": {},
   "outputs": [
    {
     "name": "stderr",
     "output_type": "stream",
     "text": [
      "\u001b[1m\u001b[36mINFO: \u001b[39m\u001b[22m\u001b[36mSaved animation to /home/juliohm/.julia/v0.6/GeoStats/examples/figs/anisotropy_angle.gif\n",
      "\u001b[39m"
     ]
    },
    {
     "data": {
      "text/html": [
       "<img src=\"figs/anisotropy_angle.gif?0.57557066645746>\" />"
      ],
      "text/plain": [
       "Plots.AnimatedGif(\"/home/juliohm/.julia/v0.6/GeoStats/examples/figs/anisotropy_angle.gif\")"
      ]
     },
     "execution_count": 7,
     "metadata": {},
     "output_type": "execute_result"
    }
   ],
   "source": [
    "anim = @animate for θ=linspace(0,2π,10)\n",
    "    γ = GaussianVariogram(range=5., distance=Ellipsoidal([10.,1.], [θ]))\n",
    "    \n",
    "    solution = solve(problem, Kriging(:variable => @NT(variogram=γ)))\n",
    "    \n",
    "    plot(solution, size=(1000,400))\n",
    "end\n",
    "gif(anim, \"figs/anisotropy_angle.gif\", fps=1)"
   ]
  },
  {
   "cell_type": "markdown",
   "metadata": {},
   "source": [
    "This experiment can be extended to 3D with the only difference being that ellipsoids therein are defined by 3 semiaxes and 3 angles. For example, the Euclidean distance in 3D can be recovered with a degenerated ellipsoid with equal semiaxes (i.e. sphere):"
   ]
  },
  {
   "cell_type": "code",
   "execution_count": 8,
   "metadata": {},
   "outputs": [
    {
     "data": {
      "text/html": [
       "true"
      ],
      "text/plain": [
       "true"
      ]
     },
     "execution_count": 8,
     "metadata": {},
     "output_type": "execute_result"
    }
   ],
   "source": [
    "ellipsoid = Ellipsoidal([1.,1.,1.],[0.,0.,0.])\n",
    "euclidean = Euclidean()\n",
    "\n",
    "a, b = rand(3), rand(3)\n",
    "\n",
    "evaluate(ellipsoid, a, b) ≈ evaluate(euclidean, a, b)"
   ]
  },
  {
   "cell_type": "markdown",
   "metadata": {},
   "source": [
    "Please consult [Distances.jl](https://github.com/JuliaStats/Distances.jl) for more distance functions."
   ]
  }
 ],
 "metadata": {
  "kernelspec": {
   "display_name": "Julia 0.6.2",
   "language": "julia",
   "name": "julia-0.6"
  },
  "language_info": {
   "file_extension": ".jl",
   "mimetype": "application/julia",
   "name": "julia",
   "version": "0.6.2"
  }
 },
 "nbformat": 4,
 "nbformat_minor": 2
}
