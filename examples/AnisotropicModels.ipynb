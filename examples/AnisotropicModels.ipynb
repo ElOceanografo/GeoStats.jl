{
 "cells": [
  {
   "cell_type": "markdown",
   "metadata": {},
   "source": [
    "# Anisotropic models\n",
    "\n",
    "In this tutorial, we demonstrate how to perform estimation with anisotropic variograms using GeoStats.jl.\n",
    "\n",
    "Before we proceed, please install the following packages:"
   ]
  },
  {
   "cell_type": "code",
   "execution_count": 1,
   "metadata": {},
   "outputs": [
    {
     "name": "stderr",
     "output_type": "stream",
     "text": [
      "\u001b[1m\u001b[36mINFO: \u001b[39m\u001b[22m\u001b[36mPackage GeoStats is already installed\n",
      "\u001b[39m\u001b[1m\u001b[36mINFO: \u001b[39m\u001b[22m\u001b[36mMETADATA is out-of-date — you may not have the latest version of GeoStats\n",
      "\u001b[39m\u001b[1m\u001b[36mINFO: \u001b[39m\u001b[22m\u001b[36mUse `Pkg.update()` to get the latest versions of your packages\n",
      "\u001b[39m\u001b[1m\u001b[36mINFO: \u001b[39m\u001b[22m\u001b[36mPackage Plots is already installed\n",
      "\u001b[39m\u001b[1m\u001b[36mINFO: \u001b[39m\u001b[22m\u001b[36mMETADATA is out-of-date — you may not have the latest version of Plots\n",
      "\u001b[39m\u001b[1m\u001b[36mINFO: \u001b[39m\u001b[22m\u001b[36mUse `Pkg.update()` to get the latest versions of your packages\n",
      "\u001b[39m\u001b[1m\u001b[36mINFO: \u001b[39m\u001b[22m\u001b[36mPackage GR is already installed\n",
      "\u001b[39m\u001b[1m\u001b[36mINFO: \u001b[39m\u001b[22m\u001b[36mMETADATA is out-of-date — you may not have the latest version of GR\n",
      "\u001b[39m\u001b[1m\u001b[36mINFO: \u001b[39m\u001b[22m\u001b[36mUse `Pkg.update()` to get the latest versions of your packages\n",
      "\u001b[39m"
     ]
    }
   ],
   "source": [
    "for pkg in [\"GeoStats\", \"Plots\", \"GR\"]\n",
    "    Pkg.add(pkg)\n",
    "end\n",
    "\n",
    "# make sure this tutorial is reproducible\n",
    "srand(2000);"
   ]
  },
  {
   "cell_type": "markdown",
   "metadata": {},
   "source": [
    "## Ellipsoid distance\n",
    "\n",
    "Anisotropy can be thought of as a deformation of space with an ellipsoid distance. The semiaxes of the ellipsoid determine the preferential directions of the field and their lengths characterize the anisotropy ratio. In GeoStats.jl, all variogram models (empirical and theoretical) support a custom distance function that\n",
    "can be used to model anisotropy.\n",
    "\n",
    "A variogram object $\\gamma$ can be evaluated as an isotropic model $\\gamma(h)$ or as a (possibly) anisotropic model $\\gamma(x,y)$. For the Euclidean distance (the default), these two operations match $\\gamma(x,y) = \\gamma(h)$ in all directions:"
   ]
  },
  {
   "cell_type": "code",
   "execution_count": 2,
   "metadata": {},
   "outputs": [
    {
     "data": {
      "text/html": [
       "true"
      ],
      "text/plain": [
       "true"
      ]
     },
     "execution_count": 2,
     "metadata": {},
     "output_type": "execute_result"
    }
   ],
   "source": [
    "using GeoStats\n",
    "\n",
    "γ = GaussianVariogram()\n",
    "\n",
    "γ([1.,0.], [0.,0.]) ≈ γ(1.)"
   ]
  },
  {
   "cell_type": "markdown",
   "metadata": {},
   "source": [
    "If instead of an Euclidean ball, we use an ellipsoid with different semiaxes, the operation $\\gamma(x,y)$ becomes a function of the direction $x-y$. For example, we can create an ellipsoid distance aligned with the coordinate system where the major semiaxis has twice the size of the minor semiaxis:"
   ]
  },
  {
   "cell_type": "code",
   "execution_count": 3,
   "metadata": {},
   "outputs": [
    {
     "data": {
      "text/html": [
       "true"
      ],
      "text/plain": [
       "true"
      ]
     },
     "execution_count": 3,
     "metadata": {},
     "output_type": "execute_result"
    }
   ],
   "source": [
    "using Distances\n",
    "\n",
    "γaniso = GaussianVariogram(distance=Ellipsoidal([2.,1.],[0.]))\n",
    "\n",
    "γaniso([1.,0.],[0.,0.]) ≠ γaniso([0.,1.],[0.,0.])"
   ]
  },
  {
   "cell_type": "markdown",
   "metadata": {},
   "source": [
    "## Effects on estimation\n",
    "\n",
    "Now that we know how to construct anisotropic variograms, we can investigate the effect of varying the anisotropy ratio and alignement angle on estimation results. We start by generating some random data:"
   ]
  },
  {
   "cell_type": "code",
   "execution_count": 4,
   "metadata": {},
   "outputs": [
    {
     "data": {
      "image/svg+xml": [
       "<?xml version=\"1.0\" encoding=\"utf-8\"?>\n",
       "<svg xmlns=\"http://www.w3.org/2000/svg\" xmlns:xlink=\"http://www.w3.org/1999/xlink\" width=\"600\" height=\"400\" viewBox=\"0 0 600 400\">\n",
       "<defs>\n",
       "  <clipPath id=\"clip7700\">\n",
       "    <rect x=\"0\" y=\"0\" width=\"600\" height=\"400\"/>\n",
       "  </clipPath>\n",
       "</defs>\n",
       "<polygon clip-path=\"url(#clip7700)\" points=\"\n",
       "0,400 600,400 600,0 0,0 \n",
       "  \" fill=\"#ffffff\" fill-opacity=\"1\"/>\n",
       "<defs>\n",
       "  <clipPath id=\"clip7701\">\n",
       "    <rect x=\"120\" y=\"0\" width=\"421\" height=\"400\"/>\n",
       "  </clipPath>\n",
       "</defs>\n",
       "<polygon clip-path=\"url(#clip7700)\" points=\"\n",
       "35.8198,375.869 520.315,375.869 520.315,11.811 35.8198,11.811 \n",
       "  \" fill=\"#ffffff\" fill-opacity=\"1\"/>\n",
       "<defs>\n",
       "  <clipPath id=\"clip7702\">\n",
       "    <rect x=\"35\" y=\"11\" width=\"485\" height=\"365\"/>\n",
       "  </clipPath>\n",
       "</defs>\n",
       "<polyline clip-path=\"url(#clip7702)\" style=\"stroke:#000000; stroke-width:0.5; stroke-opacity:0.1; fill:none\" points=\"\n",
       "  127.778,375.869 127.778,11.811 \n",
       "  \"/>\n",
       "<polyline clip-path=\"url(#clip7702)\" style=\"stroke:#000000; stroke-width:0.5; stroke-opacity:0.1; fill:none\" points=\"\n",
       "  226.726,375.869 226.726,11.811 \n",
       "  \"/>\n",
       "<polyline clip-path=\"url(#clip7702)\" style=\"stroke:#000000; stroke-width:0.5; stroke-opacity:0.1; fill:none\" points=\"\n",
       "  325.673,375.869 325.673,11.811 \n",
       "  \"/>\n",
       "<polyline clip-path=\"url(#clip7702)\" style=\"stroke:#000000; stroke-width:0.5; stroke-opacity:0.1; fill:none\" points=\"\n",
       "  424.621,375.869 424.621,11.811 \n",
       "  \"/>\n",
       "<polyline clip-path=\"url(#clip7702)\" style=\"stroke:#000000; stroke-width:0.5; stroke-opacity:0.1; fill:none\" points=\"\n",
       "  35.8198,304.931 520.315,304.931 \n",
       "  \"/>\n",
       "<polyline clip-path=\"url(#clip7702)\" style=\"stroke:#000000; stroke-width:0.5; stroke-opacity:0.1; fill:none\" points=\"\n",
       "  35.8198,233.806 520.315,233.806 \n",
       "  \"/>\n",
       "<polyline clip-path=\"url(#clip7702)\" style=\"stroke:#000000; stroke-width:0.5; stroke-opacity:0.1; fill:none\" points=\"\n",
       "  35.8198,162.681 520.315,162.681 \n",
       "  \"/>\n",
       "<polyline clip-path=\"url(#clip7702)\" style=\"stroke:#000000; stroke-width:0.5; stroke-opacity:0.1; fill:none\" points=\"\n",
       "  35.8198,91.5555 520.315,91.5555 \n",
       "  \"/>\n",
       "<polyline clip-path=\"url(#clip7702)\" style=\"stroke:#000000; stroke-width:0.5; stroke-opacity:0.1; fill:none\" points=\"\n",
       "  35.8198,20.4304 520.315,20.4304 \n",
       "  \"/>\n",
       "<polyline clip-path=\"url(#clip7700)\" style=\"stroke:#000000; stroke-width:1; stroke-opacity:1; fill:none\" points=\"\n",
       "  35.8198,375.869 520.315,375.869 \n",
       "  \"/>\n",
       "<polyline clip-path=\"url(#clip7700)\" style=\"stroke:#000000; stroke-width:1; stroke-opacity:1; fill:none\" points=\"\n",
       "  35.8198,375.869 35.8198,11.811 \n",
       "  \"/>\n",
       "<polyline clip-path=\"url(#clip7700)\" style=\"stroke:#000000; stroke-width:1; stroke-opacity:1; fill:none\" points=\"\n",
       "  127.778,375.869 127.778,370.408 \n",
       "  \"/>\n",
       "<polyline clip-path=\"url(#clip7700)\" style=\"stroke:#000000; stroke-width:1; stroke-opacity:1; fill:none\" points=\"\n",
       "  226.726,375.869 226.726,370.408 \n",
       "  \"/>\n",
       "<polyline clip-path=\"url(#clip7700)\" style=\"stroke:#000000; stroke-width:1; stroke-opacity:1; fill:none\" points=\"\n",
       "  325.673,375.869 325.673,370.408 \n",
       "  \"/>\n",
       "<polyline clip-path=\"url(#clip7700)\" style=\"stroke:#000000; stroke-width:1; stroke-opacity:1; fill:none\" points=\"\n",
       "  424.621,375.869 424.621,370.408 \n",
       "  \"/>\n",
       "<polyline clip-path=\"url(#clip7700)\" style=\"stroke:#000000; stroke-width:1; stroke-opacity:1; fill:none\" points=\"\n",
       "  35.8198,304.931 43.0872,304.931 \n",
       "  \"/>\n",
       "<polyline clip-path=\"url(#clip7700)\" style=\"stroke:#000000; stroke-width:1; stroke-opacity:1; fill:none\" points=\"\n",
       "  35.8198,233.806 43.0872,233.806 \n",
       "  \"/>\n",
       "<polyline clip-path=\"url(#clip7700)\" style=\"stroke:#000000; stroke-width:1; stroke-opacity:1; fill:none\" points=\"\n",
       "  35.8198,162.681 43.0872,162.681 \n",
       "  \"/>\n",
       "<polyline clip-path=\"url(#clip7700)\" style=\"stroke:#000000; stroke-width:1; stroke-opacity:1; fill:none\" points=\"\n",
       "  35.8198,91.5555 43.0872,91.5555 \n",
       "  \"/>\n",
       "<polyline clip-path=\"url(#clip7700)\" style=\"stroke:#000000; stroke-width:1; stroke-opacity:1; fill:none\" points=\"\n",
       "  35.8198,20.4304 43.0872,20.4304 \n",
       "  \"/>\n",
       "<g clip-path=\"url(#clip7700)\">\n",
       "<text style=\"fill:#000000; fill-opacity:1; font-family:Arial,Helvetica Neue,Helvetica,sans-serif; font-size:12; text-anchor:middle;\" transform=\"rotate(0, 127.778, 389.669)\" x=\"127.778\" y=\"389.669\">20</text>\n",
       "</g>\n",
       "<g clip-path=\"url(#clip7700)\">\n",
       "<text style=\"fill:#000000; fill-opacity:1; font-family:Arial,Helvetica Neue,Helvetica,sans-serif; font-size:12; text-anchor:middle;\" transform=\"rotate(0, 226.726, 389.669)\" x=\"226.726\" y=\"389.669\">40</text>\n",
       "</g>\n",
       "<g clip-path=\"url(#clip7700)\">\n",
       "<text style=\"fill:#000000; fill-opacity:1; font-family:Arial,Helvetica Neue,Helvetica,sans-serif; font-size:12; text-anchor:middle;\" transform=\"rotate(0, 325.673, 389.669)\" x=\"325.673\" y=\"389.669\">60</text>\n",
       "</g>\n",
       "<g clip-path=\"url(#clip7700)\">\n",
       "<text style=\"fill:#000000; fill-opacity:1; font-family:Arial,Helvetica Neue,Helvetica,sans-serif; font-size:12; text-anchor:middle;\" transform=\"rotate(0, 424.621, 389.669)\" x=\"424.621\" y=\"389.669\">80</text>\n",
       "</g>\n",
       "<g clip-path=\"url(#clip7700)\">\n",
       "<text style=\"fill:#000000; fill-opacity:1; font-family:Arial,Helvetica Neue,Helvetica,sans-serif; font-size:12; text-anchor:end;\" transform=\"rotate(0, 29.8198, 309.431)\" x=\"29.8198\" y=\"309.431\">20</text>\n",
       "</g>\n",
       "<g clip-path=\"url(#clip7700)\">\n",
       "<text style=\"fill:#000000; fill-opacity:1; font-family:Arial,Helvetica Neue,Helvetica,sans-serif; font-size:12; text-anchor:end;\" transform=\"rotate(0, 29.8198, 238.306)\" x=\"29.8198\" y=\"238.306\">40</text>\n",
       "</g>\n",
       "<g clip-path=\"url(#clip7700)\">\n",
       "<text style=\"fill:#000000; fill-opacity:1; font-family:Arial,Helvetica Neue,Helvetica,sans-serif; font-size:12; text-anchor:end;\" transform=\"rotate(0, 29.8198, 167.181)\" x=\"29.8198\" y=\"167.181\">60</text>\n",
       "</g>\n",
       "<g clip-path=\"url(#clip7700)\">\n",
       "<text style=\"fill:#000000; fill-opacity:1; font-family:Arial,Helvetica Neue,Helvetica,sans-serif; font-size:12; text-anchor:end;\" transform=\"rotate(0, 29.8198, 96.0555)\" x=\"29.8198\" y=\"96.0555\">80</text>\n",
       "</g>\n",
       "<g clip-path=\"url(#clip7700)\">\n",
       "<text style=\"fill:#000000; fill-opacity:1; font-family:Arial,Helvetica Neue,Helvetica,sans-serif; font-size:12; text-anchor:end;\" transform=\"rotate(0, 29.8198, 24.9304)\" x=\"29.8198\" y=\"24.9304\">100</text>\n",
       "</g>\n",
       "<circle clip-path=\"url(#clip7702)\" style=\"fill:#000000; stroke:none; fill-opacity:1\" cx=\"321.041\" cy=\"166.758\" r=\"4\"/>\n",
       "<circle clip-path=\"url(#clip7702)\" style=\"fill:#f9fc9c; stroke:none; fill-opacity:1\" cx=\"321.041\" cy=\"166.758\" r=\"3\"/>\n",
       "<circle clip-path=\"url(#clip7702)\" style=\"fill:#000000; stroke:none; fill-opacity:1\" cx=\"96.4207\" cy=\"200.548\" r=\"4\"/>\n",
       "<circle clip-path=\"url(#clip7702)\" style=\"fill:#f7870d; stroke:none; fill-opacity:1\" cx=\"96.4207\" cy=\"200.548\" r=\"3\"/>\n",
       "<circle clip-path=\"url(#clip7702)\" style=\"fill:#000000; stroke:none; fill-opacity:1\" cx=\"295.68\" cy=\"194.163\" r=\"4\"/>\n",
       "<circle clip-path=\"url(#clip7702)\" style=\"fill:#f98f08; stroke:none; fill-opacity:1\" cx=\"295.68\" cy=\"194.163\" r=\"3\"/>\n",
       "<circle clip-path=\"url(#clip7702)\" style=\"fill:#000000; stroke:none; fill-opacity:1\" cx=\"402.97\" cy=\"157.46\" r=\"4\"/>\n",
       "<circle clip-path=\"url(#clip7702)\" style=\"fill:#be3852; stroke:none; fill-opacity:1\" cx=\"402.97\" cy=\"157.46\" r=\"3\"/>\n",
       "<circle clip-path=\"url(#clip7702)\" style=\"fill:#000000; stroke:none; fill-opacity:1\" cx=\"394.826\" cy=\"204.311\" r=\"4\"/>\n",
       "<circle clip-path=\"url(#clip7702)\" style=\"fill:#b53357; stroke:none; fill-opacity:1\" cx=\"394.826\" cy=\"204.311\" r=\"3\"/>\n",
       "<circle clip-path=\"url(#clip7702)\" style=\"fill:#000000; stroke:none; fill-opacity:1\" cx=\"54.5301\" cy=\"279.099\" r=\"4\"/>\n",
       "<circle clip-path=\"url(#clip7702)\" style=\"fill:#8f2468; stroke:none; fill-opacity:1\" cx=\"54.5301\" cy=\"279.099\" r=\"3\"/>\n",
       "<circle clip-path=\"url(#clip7702)\" style=\"fill:#000000; stroke:none; fill-opacity:1\" cx=\"485.543\" cy=\"108.814\" r=\"4\"/>\n",
       "<circle clip-path=\"url(#clip7702)\" style=\"fill:#d84c3d; stroke:none; fill-opacity:1\" cx=\"485.543\" cy=\"108.814\" r=\"3\"/>\n",
       "<circle clip-path=\"url(#clip7702)\" style=\"fill:#000000; stroke:none; fill-opacity:1\" cx=\"377.061\" cy=\"62.0319\" r=\"4\"/>\n",
       "<circle clip-path=\"url(#clip7702)\" style=\"fill:#c73e4c; stroke:none; fill-opacity:1\" cx=\"377.061\" cy=\"62.0319\" r=\"3\"/>\n",
       "<circle clip-path=\"url(#clip7702)\" style=\"fill:#000000; stroke:none; fill-opacity:1\" cx=\"54.4323\" cy=\"233.219\" r=\"4\"/>\n",
       "<circle clip-path=\"url(#clip7702)\" style=\"fill:#000003; stroke:none; fill-opacity:1\" cx=\"54.4323\" cy=\"233.219\" r=\"3\"/>\n",
       "<circle clip-path=\"url(#clip7702)\" style=\"fill:#000000; stroke:none; fill-opacity:1\" cx=\"49.5319\" cy=\"85.1652\" r=\"4\"/>\n",
       "<circle clip-path=\"url(#clip7702)\" style=\"fill:#1d0b44; stroke:none; fill-opacity:1\" cx=\"49.5319\" cy=\"85.1652\" r=\"3\"/>\n",
       "<circle clip-path=\"url(#clip7702)\" style=\"fill:#000000; stroke:none; fill-opacity:1\" cx=\"339.148\" cy=\"177.608\" r=\"4\"/>\n",
       "<circle clip-path=\"url(#clip7702)\" style=\"fill:#450a69; stroke:none; fill-opacity:1\" cx=\"339.148\" cy=\"177.608\" r=\"3\"/>\n",
       "<circle clip-path=\"url(#clip7702)\" style=\"fill:#000000; stroke:none; fill-opacity:1\" cx=\"278.159\" cy=\"62.2793\" r=\"4\"/>\n",
       "<circle clip-path=\"url(#clip7702)\" style=\"fill:#972765; stroke:none; fill-opacity:1\" cx=\"278.159\" cy=\"62.2793\" r=\"3\"/>\n",
       "<circle clip-path=\"url(#clip7702)\" style=\"fill:#000000; stroke:none; fill-opacity:1\" cx=\"179.471\" cy=\"52.8403\" r=\"4\"/>\n",
       "<circle clip-path=\"url(#clip7702)\" style=\"fill:#eb6527; stroke:none; fill-opacity:1\" cx=\"179.471\" cy=\"52.8403\" r=\"3\"/>\n",
       "<circle clip-path=\"url(#clip7702)\" style=\"fill:#000000; stroke:none; fill-opacity:1\" cx=\"142.252\" cy=\"61.6311\" r=\"4\"/>\n",
       "<circle clip-path=\"url(#clip7702)\" style=\"fill:#f5d746; stroke:none; fill-opacity:1\" cx=\"142.252\" cy=\"61.6311\" r=\"3\"/>\n",
       "<circle clip-path=\"url(#clip7702)\" style=\"fill:#000000; stroke:none; fill-opacity:1\" cx=\"506.603\" cy=\"232.073\" r=\"4\"/>\n",
       "<circle clip-path=\"url(#clip7702)\" style=\"fill:#71196d; stroke:none; fill-opacity:1\" cx=\"506.603\" cy=\"232.073\" r=\"3\"/>\n",
       "<circle clip-path=\"url(#clip7702)\" style=\"fill:#000000; stroke:none; fill-opacity:1\" cx=\"403.088\" cy=\"35.759\" r=\"4\"/>\n",
       "<circle clip-path=\"url(#clip7702)\" style=\"fill:#f9fc9c; stroke:none; fill-opacity:1\" cx=\"403.088\" cy=\"35.759\" r=\"3\"/>\n",
       "<circle clip-path=\"url(#clip7702)\" style=\"fill:#000000; stroke:none; fill-opacity:1\" cx=\"480.283\" cy=\"237.081\" r=\"4\"/>\n",
       "<circle clip-path=\"url(#clip7702)\" style=\"fill:#f7d13e; stroke:none; fill-opacity:1\" cx=\"480.283\" cy=\"237.081\" r=\"3\"/>\n",
       "<circle clip-path=\"url(#clip7702)\" style=\"fill:#000000; stroke:none; fill-opacity:1\" cx=\"58.0651\" cy=\"215.233\" r=\"4\"/>\n",
       "<circle clip-path=\"url(#clip7702)\" style=\"fill:#c53d4d; stroke:none; fill-opacity:1\" cx=\"58.0651\" cy=\"215.233\" r=\"3\"/>\n",
       "<circle clip-path=\"url(#clip7702)\" style=\"fill:#000000; stroke:none; fill-opacity:1\" cx=\"423.007\" cy=\"312.061\" r=\"4\"/>\n",
       "<circle clip-path=\"url(#clip7702)\" style=\"fill:#de5337; stroke:none; fill-opacity:1\" cx=\"423.007\" cy=\"312.061\" r=\"3\"/>\n",
       "<circle clip-path=\"url(#clip7702)\" style=\"fill:#000000; stroke:none; fill-opacity:1\" cx=\"388.769\" cy=\"337.046\" r=\"4\"/>\n",
       "<circle clip-path=\"url(#clip7702)\" style=\"fill:#fbb318; stroke:none; fill-opacity:1\" cx=\"388.769\" cy=\"337.046\" r=\"3\"/>\n",
       "<circle clip-path=\"url(#clip7702)\" style=\"fill:#000000; stroke:none; fill-opacity:1\" cx=\"392.746\" cy=\"39.7267\" r=\"4\"/>\n",
       "<circle clip-path=\"url(#clip7702)\" style=\"fill:#0d0829; stroke:none; fill-opacity:1\" cx=\"392.746\" cy=\"39.7267\" r=\"3\"/>\n",
       "<circle clip-path=\"url(#clip7702)\" style=\"fill:#000000; stroke:none; fill-opacity:1\" cx=\"287.478\" cy=\"24.3042\" r=\"4\"/>\n",
       "<circle clip-path=\"url(#clip7702)\" style=\"fill:#1a0b3f; stroke:none; fill-opacity:1\" cx=\"287.478\" cy=\"24.3042\" r=\"3\"/>\n",
       "<circle clip-path=\"url(#clip7702)\" style=\"fill:#000000; stroke:none; fill-opacity:1\" cx=\"107.952\" cy=\"136.883\" r=\"4\"/>\n",
       "<circle clip-path=\"url(#clip7702)\" style=\"fill:#a42c60; stroke:none; fill-opacity:1\" cx=\"107.952\" cy=\"136.883\" r=\"3\"/>\n",
       "<circle clip-path=\"url(#clip7702)\" style=\"fill:#000000; stroke:none; fill-opacity:1\" cx=\"324.084\" cy=\"22.1145\" r=\"4\"/>\n",
       "<circle clip-path=\"url(#clip7702)\" style=\"fill:#fba40a; stroke:none; fill-opacity:1\" cx=\"324.084\" cy=\"22.1145\" r=\"3\"/>\n",
       "<circle clip-path=\"url(#clip7702)\" style=\"fill:#000000; stroke:none; fill-opacity:1\" cx=\"392.588\" cy=\"234.673\" r=\"4\"/>\n",
       "<circle clip-path=\"url(#clip7702)\" style=\"fill:#f2f380; stroke:none; fill-opacity:1\" cx=\"392.588\" cy=\"234.673\" r=\"3\"/>\n",
       "<circle clip-path=\"url(#clip7702)\" style=\"fill:#000000; stroke:none; fill-opacity:1\" cx=\"286.465\" cy=\"165.147\" r=\"4\"/>\n",
       "<circle clip-path=\"url(#clip7702)\" style=\"fill:#5b116d; stroke:none; fill-opacity:1\" cx=\"286.465\" cy=\"165.147\" r=\"3\"/>\n",
       "<circle clip-path=\"url(#clip7702)\" style=\"fill:#000000; stroke:none; fill-opacity:1\" cx=\"101.818\" cy=\"56.3797\" r=\"4\"/>\n",
       "<circle clip-path=\"url(#clip7702)\" style=\"fill:#e55c2f; stroke:none; fill-opacity:1\" cx=\"101.818\" cy=\"56.3797\" r=\"3\"/>\n",
       "<circle clip-path=\"url(#clip7702)\" style=\"fill:#000000; stroke:none; fill-opacity:1\" cx=\"113.231\" cy=\"177.749\" r=\"4\"/>\n",
       "<circle clip-path=\"url(#clip7702)\" style=\"fill:#2b0a55; stroke:none; fill-opacity:1\" cx=\"113.231\" cy=\"177.749\" r=\"3\"/>\n",
       "<circle clip-path=\"url(#clip7702)\" style=\"fill:#000000; stroke:none; fill-opacity:1\" cx=\"400.232\" cy=\"54.4714\" r=\"4\"/>\n",
       "<circle clip-path=\"url(#clip7702)\" style=\"fill:#fabf26; stroke:none; fill-opacity:1\" cx=\"400.232\" cy=\"54.4714\" r=\"3\"/>\n",
       "<circle clip-path=\"url(#clip7702)\" style=\"fill:#000000; stroke:none; fill-opacity:1\" cx=\"152.59\" cy=\"280.093\" r=\"4\"/>\n",
       "<circle clip-path=\"url(#clip7702)\" style=\"fill:#f7850e; stroke:none; fill-opacity:1\" cx=\"152.59\" cy=\"280.093\" r=\"3\"/>\n",
       "<circle clip-path=\"url(#clip7702)\" style=\"fill:#000000; stroke:none; fill-opacity:1\" cx=\"326.88\" cy=\"365.565\" r=\"4\"/>\n",
       "<circle clip-path=\"url(#clip7702)\" style=\"fill:#fcfea4; stroke:none; fill-opacity:1\" cx=\"326.88\" cy=\"365.565\" r=\"3\"/>\n",
       "<circle clip-path=\"url(#clip7702)\" style=\"fill:#000000; stroke:none; fill-opacity:1\" cx=\"74.7846\" cy=\"170.399\" r=\"4\"/>\n",
       "<circle clip-path=\"url(#clip7702)\" style=\"fill:#1d0b44; stroke:none; fill-opacity:1\" cx=\"74.7846\" cy=\"170.399\" r=\"3\"/>\n",
       "<circle clip-path=\"url(#clip7702)\" style=\"fill:#000000; stroke:none; fill-opacity:1\" cx=\"424.496\" cy=\"234.396\" r=\"4\"/>\n",
       "<circle clip-path=\"url(#clip7702)\" style=\"fill:#83206b; stroke:none; fill-opacity:1\" cx=\"424.496\" cy=\"234.396\" r=\"3\"/>\n",
       "<circle clip-path=\"url(#clip7702)\" style=\"fill:#000000; stroke:none; fill-opacity:1\" cx=\"173.591\" cy=\"157.004\" r=\"4\"/>\n",
       "<circle clip-path=\"url(#clip7702)\" style=\"fill:#250b50; stroke:none; fill-opacity:1\" cx=\"173.591\" cy=\"157.004\" r=\"3\"/>\n",
       "<circle clip-path=\"url(#clip7702)\" style=\"fill:#000000; stroke:none; fill-opacity:1\" cx=\"56.6097\" cy=\"145.828\" r=\"4\"/>\n",
       "<circle clip-path=\"url(#clip7702)\" style=\"fill:#f7f994; stroke:none; fill-opacity:1\" cx=\"56.6097\" cy=\"145.828\" r=\"3\"/>\n",
       "<circle clip-path=\"url(#clip7702)\" style=\"fill:#000000; stroke:none; fill-opacity:1\" cx=\"296.131\" cy=\"262.145\" r=\"4\"/>\n",
       "<circle clip-path=\"url(#clip7702)\" style=\"fill:#9a2864; stroke:none; fill-opacity:1\" cx=\"296.131\" cy=\"262.145\" r=\"3\"/>\n",
       "<circle clip-path=\"url(#clip7702)\" style=\"fill:#000000; stroke:none; fill-opacity:1\" cx=\"286.141\" cy=\"63.4905\" r=\"4\"/>\n",
       "<circle clip-path=\"url(#clip7702)\" style=\"fill:#1a0b3f; stroke:none; fill-opacity:1\" cx=\"286.141\" cy=\"63.4905\" r=\"3\"/>\n",
       "<circle clip-path=\"url(#clip7702)\" style=\"fill:#000000; stroke:none; fill-opacity:1\" cx=\"108.99\" cy=\"129.671\" r=\"4\"/>\n",
       "<circle clip-path=\"url(#clip7702)\" style=\"fill:#03020f; stroke:none; fill-opacity:1\" cx=\"108.99\" cy=\"129.671\" r=\"3\"/>\n",
       "<circle clip-path=\"url(#clip7702)\" style=\"fill:#000000; stroke:none; fill-opacity:1\" cx=\"75.2402\" cy=\"298.79\" r=\"4\"/>\n",
       "<circle clip-path=\"url(#clip7702)\" style=\"fill:#c73e4c; stroke:none; fill-opacity:1\" cx=\"75.2402\" cy=\"298.79\" r=\"3\"/>\n",
       "<circle clip-path=\"url(#clip7702)\" style=\"fill:#000000; stroke:none; fill-opacity:1\" cx=\"406.53\" cy=\"87.4156\" r=\"4\"/>\n",
       "<circle clip-path=\"url(#clip7702)\" style=\"fill:#e55c2f; stroke:none; fill-opacity:1\" cx=\"406.53\" cy=\"87.4156\" r=\"3\"/>\n",
       "<circle clip-path=\"url(#clip7702)\" style=\"fill:#000000; stroke:none; fill-opacity:1\" cx=\"262.842\" cy=\"93.2146\" r=\"4\"/>\n",
       "<circle clip-path=\"url(#clip7702)\" style=\"fill:#fba40a; stroke:none; fill-opacity:1\" cx=\"262.842\" cy=\"93.2146\" r=\"3\"/>\n",
       "<circle clip-path=\"url(#clip7702)\" style=\"fill:#000000; stroke:none; fill-opacity:1\" cx=\"97.9414\" cy=\"161.253\" r=\"4\"/>\n",
       "<circle clip-path=\"url(#clip7702)\" style=\"fill:#f06f1f; stroke:none; fill-opacity:1\" cx=\"97.9414\" cy=\"161.253\" r=\"3\"/>\n",
       "<circle clip-path=\"url(#clip7702)\" style=\"fill:#000000; stroke:none; fill-opacity:1\" cx=\"265.249\" cy=\"164.132\" r=\"4\"/>\n",
       "<circle clip-path=\"url(#clip7702)\" style=\"fill:#c53d4d; stroke:none; fill-opacity:1\" cx=\"265.249\" cy=\"164.132\" r=\"3\"/>\n",
       "<circle clip-path=\"url(#clip7702)\" style=\"fill:#000000; stroke:none; fill-opacity:1\" cx=\"380.988\" cy=\"340.542\" r=\"4\"/>\n",
       "<circle clip-path=\"url(#clip7702)\" style=\"fill:#520e6c; stroke:none; fill-opacity:1\" cx=\"380.988\" cy=\"340.542\" r=\"3\"/>\n",
       "<circle clip-path=\"url(#clip7702)\" style=\"fill:#000000; stroke:none; fill-opacity:1\" cx=\"91.3695\" cy=\"200.345\" r=\"4\"/>\n",
       "<circle clip-path=\"url(#clip7702)\" style=\"fill:#7e1e6c; stroke:none; fill-opacity:1\" cx=\"91.3695\" cy=\"200.345\" r=\"3\"/>\n",
       "<circle clip-path=\"url(#clip7702)\" style=\"fill:#000000; stroke:none; fill-opacity:1\" cx=\"88.7009\" cy=\"361.287\" r=\"4\"/>\n",
       "<circle clip-path=\"url(#clip7702)\" style=\"fill:#e9622a; stroke:none; fill-opacity:1\" cx=\"88.7009\" cy=\"361.287\" r=\"3\"/>\n",
       "<circle clip-path=\"url(#clip7702)\" style=\"fill:#000000; stroke:none; fill-opacity:1\" cx=\"68.819\" cy=\"65.5504\" r=\"4\"/>\n",
       "<circle clip-path=\"url(#clip7702)\" style=\"fill:#ea6428; stroke:none; fill-opacity:1\" cx=\"68.819\" cy=\"65.5504\" r=\"3\"/>\n",
       "<circle clip-path=\"url(#clip7702)\" style=\"fill:#000000; stroke:none; fill-opacity:1\" cx=\"463.272\" cy=\"228.115\" r=\"4\"/>\n",
       "<circle clip-path=\"url(#clip7702)\" style=\"fill:#f78310; stroke:none; fill-opacity:1\" cx=\"463.272\" cy=\"228.115\" r=\"3\"/>\n",
       "<circle clip-path=\"url(#clip7702)\" style=\"fill:#000000; stroke:none; fill-opacity:1\" cx=\"64.4955\" cy=\"193.38\" r=\"4\"/>\n",
       "<circle clip-path=\"url(#clip7702)\" style=\"fill:#b0315a; stroke:none; fill-opacity:1\" cx=\"64.4955\" cy=\"193.38\" r=\"3\"/>\n",
       "<circle clip-path=\"url(#clip7702)\" style=\"fill:#000000; stroke:none; fill-opacity:1\" cx=\"216.176\" cy=\"231.238\" r=\"4\"/>\n",
       "<circle clip-path=\"url(#clip7702)\" style=\"fill:#350960; stroke:none; fill-opacity:1\" cx=\"216.176\" cy=\"231.238\" r=\"3\"/>\n",
       "<defs>\n",
       "  <clipPath id=\"clip7703\">\n",
       "    <rect x=\"532\" y=\"11\" width=\"19\" height=\"365\"/>\n",
       "  </clipPath>\n",
       "</defs>\n",
       "<g clip-path=\"url(#clip7703)\">\n",
       "<image width=\"18\" height=\"364\" xlink:href=\"data:image/png;base64,\n",
       "iVBORw0KGgoAAAANSUhEUgAAABIAAAFsCAYAAADBkelSAAACHUlEQVR4nO2c223EMAwEqUD9V5Eu\n",
       "4yOvBPpjEAwIqoCF9kU5vljnyd8KYP0QIBERN+thgAoC4qhVzqVmcw0Te7BGHLWgkk0BgdQo1yZr\n",
       "lH8Q0Ca7Wxy1Ux8GKBICOhAQaT+lESQ2aD9Gbe1vgU4mAiSkRgEpk824NjnZRvsh1yj7la6N1Qi0\n",
       "35ZsnWtC+yORF1pxo3zUMNcYjZTUVqMeCMFBqUFAUGeN1HRA5Ds2CKjyIEBK+xlqt8qnEUSNAiLf\n",
       "+Y+lFslgTdaImkc3itmUkJpxZm+ym3XLppHwOKI0Eh5HXPt1gw2035Zs0P6x7QeT7aO2rrVAtooY\n",
       "2++z33aukf8PKSutUKNN9j8C5WrUraXWL18gZ2s09mlk8DzaZPdAQvtDRk1oP/TjupMaZT+Uo8Gl\n",
       "NdpPAQmpYa7pks2VFhtsOo249iMwS+3NMs5sBEbZ/qXWA/ke2AfPbIya8WEUAtJVZO3vF2g/g6Oc\n",
       "2XM1AqnZkg0eRxAQtSOlRmt/s4TUVqMXQAyOcmbr5pFu1N6CPqoRJntwaXU5MrZfl+zB1MCfM6Dv\n",
       "sn3n2s7sF0A6apTYGDWhRkmVVpjswa5R1Ar6etmo0cGo2a4JoXYE2n909nPJttkPltZ2/xGYbOge\n",
       "LZ/9Oo2WWr/A0kI34GA7Iv/KnksNm0eDNeKo6dq/rvVAVEWoHQmHf+kumcaoBfQmArwngnON0sjX\n",
       "fs7+udQgoC/rNOfnsknqIwAAAABJRU5ErkJggg==\n",
       "\" transform=\"translate(532, 12)\"/>\n",
       "</g>\n",
       "<g clip-path=\"url(#clip7700)\">\n",
       "<text style=\"fill:#000000; fill-opacity:1; font-family:Arial,Helvetica Neue,Helvetica,sans-serif; font-size:12; text-anchor:start;\" transform=\"rotate(0, 559.315, 345.408)\" x=\"559.315\" y=\"345.408\">0.1</text>\n",
       "</g>\n",
       "<g clip-path=\"url(#clip7700)\">\n",
       "<text style=\"fill:#000000; fill-opacity:1; font-family:Arial,Helvetica Neue,Helvetica,sans-serif; font-size:12; text-anchor:start;\" transform=\"rotate(0, 559.315, 307.418)\" x=\"559.315\" y=\"307.418\">0.2</text>\n",
       "</g>\n",
       "<g clip-path=\"url(#clip7700)\">\n",
       "<text style=\"fill:#000000; fill-opacity:1; font-family:Arial,Helvetica Neue,Helvetica,sans-serif; font-size:12; text-anchor:start;\" transform=\"rotate(0, 559.315, 269.428)\" x=\"559.315\" y=\"269.428\">0.3</text>\n",
       "</g>\n",
       "<g clip-path=\"url(#clip7700)\">\n",
       "<text style=\"fill:#000000; fill-opacity:1; font-family:Arial,Helvetica Neue,Helvetica,sans-serif; font-size:12; text-anchor:start;\" transform=\"rotate(0, 559.315, 231.438)\" x=\"559.315\" y=\"231.438\">0.4</text>\n",
       "</g>\n",
       "<g clip-path=\"url(#clip7700)\">\n",
       "<text style=\"fill:#000000; fill-opacity:1; font-family:Arial,Helvetica Neue,Helvetica,sans-serif; font-size:12; text-anchor:start;\" transform=\"rotate(0, 559.315, 193.448)\" x=\"559.315\" y=\"193.448\">0.5</text>\n",
       "</g>\n",
       "<g clip-path=\"url(#clip7700)\">\n",
       "<text style=\"fill:#000000; fill-opacity:1; font-family:Arial,Helvetica Neue,Helvetica,sans-serif; font-size:12; text-anchor:start;\" transform=\"rotate(0, 559.315, 155.457)\" x=\"559.315\" y=\"155.457\">0.6</text>\n",
       "</g>\n",
       "<g clip-path=\"url(#clip7700)\">\n",
       "<text style=\"fill:#000000; fill-opacity:1; font-family:Arial,Helvetica Neue,Helvetica,sans-serif; font-size:12; text-anchor:start;\" transform=\"rotate(0, 559.315, 117.467)\" x=\"559.315\" y=\"117.467\">0.7</text>\n",
       "</g>\n",
       "<g clip-path=\"url(#clip7700)\">\n",
       "<text style=\"fill:#000000; fill-opacity:1; font-family:Arial,Helvetica Neue,Helvetica,sans-serif; font-size:12; text-anchor:start;\" transform=\"rotate(0, 559.315, 79.4769)\" x=\"559.315\" y=\"79.4769\">0.8</text>\n",
       "</g>\n",
       "<g clip-path=\"url(#clip7700)\">\n",
       "<text style=\"fill:#000000; fill-opacity:1; font-family:Arial,Helvetica Neue,Helvetica,sans-serif; font-size:12; text-anchor:start;\" transform=\"rotate(0, 559.315, 41.4867)\" x=\"559.315\" y=\"41.4867\">0.9</text>\n",
       "</g>\n",
       "<polyline clip-path=\"url(#clip7700)\" style=\"stroke:#000000; stroke-width:1; stroke-opacity:1; fill:none\" points=\"\n",
       "  550.315,375.869 550.315,341.996 556.315,341.996 550.315,341.996 550.315,304.005 556.315,304.005 550.315,304.005 550.315,266.015 556.315,266.015 550.315,266.015 \n",
       "  550.315,228.025 556.315,228.025 550.315,228.025 550.315,190.035 556.315,190.035 550.315,190.035 550.315,152.045 556.315,152.045 550.315,152.045 550.315,114.054 \n",
       "  556.315,114.054 550.315,114.054 550.315,76.0641 556.315,76.0641 550.315,76.0641 550.315,38.0739 556.315,38.0739 550.315,38.0739 550.315,11.811 \n",
       "  \"/>\n",
       "<polygon clip-path=\"url(#clip7700)\" points=\"\n",
       "418.898,62.931 502.315,62.931 502.315,32.691 418.898,32.691 \n",
       "  \" fill=\"#ffffff\" fill-opacity=\"1\"/>\n",
       "<polyline clip-path=\"url(#clip7700)\" style=\"stroke:#000000; stroke-width:1; stroke-opacity:1; fill:none\" points=\"\n",
       "  418.898,62.931 502.315,62.931 502.315,32.691 418.898,32.691 418.898,62.931 \n",
       "  \"/>\n",
       "<circle clip-path=\"url(#clip7700)\" style=\"fill:#000000; stroke:none; fill-opacity:1\" cx=\"445.898\" cy=\"47.811\" r=\"6\"/>\n",
       "<circle clip-path=\"url(#clip7700)\" style=\"fill:#000003; stroke:none; fill-opacity:1\" cx=\"445.898\" cy=\"47.811\" r=\"5\"/>\n",
       "<g clip-path=\"url(#clip7700)\">\n",
       "<text style=\"fill:#000000; fill-opacity:1; font-family:Arial,Helvetica Neue,Helvetica,sans-serif; font-size:12; text-anchor:start;\" transform=\"rotate(0, 466.898, 52.311)\" x=\"466.898\" y=\"52.311\">data</text>\n",
       "</g>\n",
       "</svg>\n"
      ]
     },
     "execution_count": 4,
     "metadata": {},
     "output_type": "execute_result"
    }
   ],
   "source": [
    "using Plots; gr()\n",
    "\n",
    "dim, nobs = 2, 50\n",
    "\n",
    "X = 100*rand(dim, nobs)\n",
    "z = rand(nobs)\n",
    "\n",
    "scatter(X[1,:], X[2,:], zcolor=z, label=\"data\")"
   ]
  },
  {
   "cell_type": "markdown",
   "metadata": {},
   "source": [
    "and by defining an estimation problem:"
   ]
  },
  {
   "cell_type": "code",
   "execution_count": 5,
   "metadata": {},
   "outputs": [
    {
     "data": {
      "text/plain": [
       "2D EstimationProblem\n",
       "  data:      50×3 GeoDataFrame (x and y)\n",
       "  domain:    100×100 RegularGrid{Float64,2}\n",
       "  variables: variable (Float64)"
      ]
     },
     "execution_count": 5,
     "metadata": {},
     "output_type": "execute_result"
    }
   ],
   "source": [
    "geodata = GeoDataFrame(DataFrames.DataFrame(x=X[1,:],y=X[2,:],variable=z), [:x,:y])\n",
    "domain = RegularGrid{Float64}(100,100)\n",
    "problem = EstimationProblem(geodata, domain, :variable)"
   ]
  },
  {
   "cell_type": "markdown",
   "metadata": {},
   "source": [
    "First, we vary the anisotropy ratio with an ellipsoid that is aligned with the coordinate system:"
   ]
  },
  {
   "cell_type": "code",
   "execution_count": 6,
   "metadata": {},
   "outputs": [
    {
     "name": "stderr",
     "output_type": "stream",
     "text": [
      "\u001b[1m\u001b[36mINFO: \u001b[39m\u001b[22m\u001b[36mSaved animation to /home/juliohm/.julia/v0.6/GeoStats/examples/figs/anisotropy_ratio.gif\n",
      "\u001b[39m"
     ]
    },
    {
     "data": {
      "text/html": [
       "<img src=\"figs/anisotropy_ratio.gif?0.943356905739213>\" />"
      ],
      "text/plain": [
       "Plots.AnimatedGif(\"/home/juliohm/.julia/v0.6/GeoStats/examples/figs/anisotropy_ratio.gif\")"
      ]
     },
     "execution_count": 6,
     "metadata": {},
     "output_type": "execute_result"
    }
   ],
   "source": [
    "anim = @animate for a=linspace(1,10,10)\n",
    "    γ = GaussianVariogram(range=5., distance=Ellipsoidal([a,1.], [0.]))\n",
    "    \n",
    "    solution = solve(problem, Kriging(:variable => @NT(variogram=γ)))\n",
    "    \n",
    "    plot(solution, size=(1000,400))\n",
    "end\n",
    "gif(anim, \"figs/anisotropy_ratio.gif\", fps=1)"
   ]
  },
  {
   "cell_type": "markdown",
   "metadata": {},
   "source": [
    "Second, we fix the anisotropy ratio and vary the alignment angle:"
   ]
  },
  {
   "cell_type": "code",
   "execution_count": 7,
   "metadata": {},
   "outputs": [
    {
     "name": "stderr",
     "output_type": "stream",
     "text": [
      "\u001b[1m\u001b[36mINFO: \u001b[39m\u001b[22m\u001b[36mSaved animation to /home/juliohm/.julia/v0.6/GeoStats/examples/figs/anisotropy_angle.gif\n",
      "\u001b[39m"
     ]
    },
    {
     "data": {
      "text/html": [
       "<img src=\"figs/anisotropy_angle.gif?0.57557066645746>\" />"
      ],
      "text/plain": [
       "Plots.AnimatedGif(\"/home/juliohm/.julia/v0.6/GeoStats/examples/figs/anisotropy_angle.gif\")"
      ]
     },
     "execution_count": 7,
     "metadata": {},
     "output_type": "execute_result"
    }
   ],
   "source": [
    "anim = @animate for θ=linspace(0,2π,10)\n",
    "    γ = GaussianVariogram(range=5., distance=Ellipsoidal([10.,1.], [θ]))\n",
    "    \n",
    "    solution = solve(problem, Kriging(:variable => @NT(variogram=γ)))\n",
    "    \n",
    "    plot(solution, size=(1000,400))\n",
    "end\n",
    "gif(anim, \"figs/anisotropy_angle.gif\", fps=1)"
   ]
  },
  {
   "cell_type": "markdown",
   "metadata": {},
   "source": [
    "This experiment can be extended to 3D with the only difference being that ellipsoids therein are defined by 3 semiaxes and 3 angles. For example, the Euclidean distance in 3D can be recovered with a degenerated ellipsoid with equal semiaxes (i.e. sphere):"
   ]
  },
  {
   "cell_type": "code",
   "execution_count": 8,
   "metadata": {},
   "outputs": [
    {
     "data": {
      "text/html": [
       "true"
      ],
      "text/plain": [
       "true"
      ]
     },
     "execution_count": 8,
     "metadata": {},
     "output_type": "execute_result"
    }
   ],
   "source": [
    "ellipsoid = Ellipsoidal([1.,1.,1.],[0.,0.,0.])\n",
    "euclidean = Euclidean()\n",
    "\n",
    "a, b = rand(3), rand(3)\n",
    "\n",
    "evaluate(ellipsoid, a, b) ≈ evaluate(euclidean, a, b)"
   ]
  },
  {
   "cell_type": "markdown",
   "metadata": {},
   "source": [
    "Please consult [Distances.jl](https://github.com/JuliaStats/Distances.jl) for more distance functions."
   ]
  }
 ],
 "metadata": {
  "kernelspec": {
   "display_name": "Julia 0.6.2",
   "language": "julia",
   "name": "julia-0.6"
  },
  "language_info": {
   "file_extension": ".jl",
   "mimetype": "application/julia",
   "name": "julia",
   "version": "0.6.2"
  }
 },
 "nbformat": 4,
 "nbformat_minor": 2
}
